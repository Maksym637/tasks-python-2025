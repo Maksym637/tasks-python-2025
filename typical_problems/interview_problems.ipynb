{
 "cells": [
  {
   "cell_type": "markdown",
   "id": "509c67bc",
   "metadata": {},
   "source": [
    "# Interview problems"
   ]
  },
  {
   "cell_type": "markdown",
   "id": "8e6afbe0",
   "metadata": {},
   "source": [
    "- - -"
   ]
  },
  {
   "cell_type": "markdown",
   "id": "ccf88d63",
   "metadata": {},
   "source": [
    "**1. Problem description:** Remove duplicates in a string\n",
    "\n",
    "Input:\n",
    "```bash\n",
    "abbaca\n",
    "```\n",
    "\n",
    "Output:\n",
    "```bash\n",
    "ca\n",
    "```"
   ]
  },
  {
   "cell_type": "code",
   "execution_count": 1,
   "id": "83b172c5",
   "metadata": {},
   "outputs": [],
   "source": [
    "def remove_duplicates(string: str) -> str:\n",
    "    stack = []\n",
    "\n",
    "    for char in string:\n",
    "        if stack and char == stack[-1]:\n",
    "            stack.pop()\n",
    "        else:\n",
    "            stack.append(char)\n",
    "\n",
    "    return \"\".join(stack)"
   ]
  },
  {
   "cell_type": "code",
   "execution_count": 4,
   "id": "7a91b66a",
   "metadata": {},
   "outputs": [],
   "source": [
    "assert remove_duplicates(\"abbaca\") == \"ca\""
   ]
  },
  {
   "cell_type": "markdown",
   "id": "fd42893b",
   "metadata": {},
   "source": [
    "- - -"
   ]
  },
  {
   "cell_type": "markdown",
   "id": "ea26c4c9",
   "metadata": {},
   "source": [
    "**2. Problem description:** Find the longest subsection with a delta equal to 1\n",
    "\n",
    "Input:\n",
    "```python\n",
    "input_array = [3, 1, 54, 2, 7, 6, 98, 1, 99, 101, 100, 2, 97]\n",
    "```\n",
    "\n",
    "Output:\n",
    "```python\n",
    "output_array = [97, 98, 99, 100, 101]\n",
    "```"
   ]
  },
  {
   "cell_type": "code",
   "execution_count": 11,
   "id": "24fe51c6",
   "metadata": {},
   "outputs": [],
   "source": [
    "from typing import List\n",
    "\n",
    "\n",
    "def find_longest_subsection(array: List[int]) -> List[int]:\n",
    "    nums_set = set(array)\n",
    "    current, longest = [], []\n",
    "\n",
    "    for i in nums_set:\n",
    "        if i - 1 not in nums_set:\n",
    "            j = i\n",
    "            while j in nums_set:\n",
    "                current.append(j)\n",
    "                j += 1\n",
    "            if len(current) > len(longest):\n",
    "                longest = current[:]\n",
    "            current = []\n",
    "\n",
    "    return longest"
   ]
  },
  {
   "cell_type": "code",
   "execution_count": 106,
   "id": "2766f649",
   "metadata": {},
   "outputs": [],
   "source": [
    "assert find_longest_subsection([3, 1, 54, 2, 7, 6, 98, 1, 99, 101, 100, 2, 97]) == [97, 98, 99, 100, 101]"
   ]
  },
  {
   "cell_type": "markdown",
   "id": "a42ee501",
   "metadata": {},
   "source": [
    "- - -"
   ]
  },
  {
   "cell_type": "markdown",
   "id": "2f67c6f3-f628-4cf3-b559-472b51e7d679",
   "metadata": {},
   "source": [
    "**3. Problem description:** Check whether the input string contains balanced brackets\n",
    "\n",
    "Input:\n",
    "```bash\n",
    "{{(((([[[[]]]]))))}}\n",
    "```\n",
    "\n",
    "Output:\n",
    "```\n",
    "True\n",
    "```\n",
    "\n",
    "Input:\n",
    "```bash\n",
    "{(})()[\n",
    "```\n",
    "\n",
    "Output:\n",
    "```bash\n",
    "False\n",
    "```"
   ]
  },
  {
   "cell_type": "code",
   "execution_count": 108,
   "id": "78c0dac3-c4d7-4cb5-968c-8cb41736d7b0",
   "metadata": {},
   "outputs": [],
   "source": [
    "def is_brackets_balanced(input_string: str) -> bool:\n",
    "    brackets = {\n",
    "        \"(\": \")\",\n",
    "        \"[\": \"]\",\n",
    "        \"{\": \"}\"\n",
    "    }\n",
    "\n",
    "    stack = []\n",
    "\n",
    "    for char in input_string:\n",
    "        if char in brackets.keys():\n",
    "            stack.append(char)\n",
    "        elif char in brackets.values():\n",
    "            if stack == [] or brackets[stack[-1]] != char:\n",
    "                return False\n",
    "            stack.pop()\n",
    "\n",
    "    return len(stack) == 0"
   ]
  },
  {
   "cell_type": "code",
   "execution_count": 109,
   "id": "8cfe86a8-3044-4f4a-b2f4-e1be9ab371fa",
   "metadata": {},
   "outputs": [],
   "source": [
    "assert is_brackets_balanced(\"{{(((([[[[]]]]))))}}\") == True\n",
    "assert is_brackets_balanced(\"{(})()[\") == False\n",
    "assert is_brackets_balanced(\"[([)\") == False\n",
    "assert is_brackets_balanced(\"[][][(])\") == False"
   ]
  },
  {
   "cell_type": "markdown",
   "id": "8572de4a-c23f-44be-9213-faebad29882b",
   "metadata": {},
   "source": [
    "- - -"
   ]
  },
  {
   "cell_type": "markdown",
   "id": "50d0fb50",
   "metadata": {},
   "source": [
    "**4. Problem description:** Return an array containing the missing values\n",
    "\n",
    "Input:\n",
    "```python\n",
    "input_array = [2, 6, 10]\n",
    "```\n",
    "\n",
    "Output:\n",
    "```python\n",
    "output_array = [3, 4, 5, 7, 8, 9]\n",
    "```"
   ]
  },
  {
   "cell_type": "code",
   "execution_count": 17,
   "id": "e08c52bc",
   "metadata": {},
   "outputs": [],
   "source": [
    "from typing import List\n",
    "\n",
    "\n",
    "def find_missing_values(input_array: List[int]) -> List[int]:\n",
    "    input_set = set(input_array)\n",
    "\n",
    "    full_range = set(range(min(input_array), max(input_array) + 1))\n",
    "    output_array = sorted(full_range - input_set)\n",
    "\n",
    "    return output_array"
   ]
  },
  {
   "cell_type": "code",
   "execution_count": 18,
   "id": "92246b89",
   "metadata": {},
   "outputs": [],
   "source": [
    "assert find_missing_values([2, 6, 10]) == [3, 4, 5, 7, 8, 9]\n",
    "assert find_missing_values([1, 5]) == [2, 3, 4]\n",
    "assert find_missing_values([1, 2, 3, 4, 5]) == []"
   ]
  },
  {
   "cell_type": "markdown",
   "id": "167d82fa",
   "metadata": {},
   "source": [
    "- - -"
   ]
  },
  {
   "cell_type": "markdown",
   "id": "332b95b3",
   "metadata": {},
   "source": [
    "**5. Problem description:** Find non-repeating elements\n",
    "\n",
    "Input:\n",
    "```python\n",
    "input_array = [1, 1, 3, 4, 5, 6, 6, 8, 8, 3]\n",
    "```\n",
    "\n",
    "Output:\n",
    "```python\n",
    "output_array = [4, 5]\n",
    "```"
   ]
  },
  {
   "cell_type": "code",
   "execution_count": 10,
   "id": "ee5a94ba",
   "metadata": {},
   "outputs": [],
   "source": [
    "from typing import List\n",
    "\n",
    "\n",
    "def find_non_repeating_elements(numbers: List[int]) -> List[int]:\n",
    "    seen, repeated = set(), set()\n",
    "\n",
    "    for number in numbers:\n",
    "        if number in seen:\n",
    "            repeated.add(number)\n",
    "        else:\n",
    "            seen.add(number)\n",
    "    \n",
    "    return list(seen - repeated)"
   ]
  },
  {
   "cell_type": "code",
   "execution_count": 11,
   "id": "81923599",
   "metadata": {},
   "outputs": [],
   "source": [
    "assert find_non_repeating_elements([1, 1, 3, 4, 5, 6, 6, 8, 8, 3]) == [4, 5]\n",
    "assert find_non_repeating_elements([1, 2, 3, 4, 5]) == [1, 2, 3, 4, 5]\n",
    "assert find_non_repeating_elements([1, 1, 1, 1]) == []"
   ]
  },
  {
   "cell_type": "markdown",
   "id": "50e85df1",
   "metadata": {},
   "source": [
    "- - -"
   ]
  }
 ],
 "metadata": {
  "kernelspec": {
   "display_name": "tasks-python-2025-6Ww2c-73-py3.11",
   "language": "python",
   "name": "python3"
  },
  "language_info": {
   "codemirror_mode": {
    "name": "ipython",
    "version": 3
   },
   "file_extension": ".py",
   "mimetype": "text/x-python",
   "name": "python",
   "nbconvert_exporter": "python",
   "pygments_lexer": "ipython3",
   "version": "3.11.6"
  }
 },
 "nbformat": 4,
 "nbformat_minor": 5
}
