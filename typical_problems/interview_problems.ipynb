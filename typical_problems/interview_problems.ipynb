{
 "cells": [
  {
   "cell_type": "markdown",
   "id": "509c67bc",
   "metadata": {},
   "source": [
    "# Interview problems"
   ]
  },
  {
   "cell_type": "markdown",
   "id": "8e6afbe0",
   "metadata": {},
   "source": [
    "- - -"
   ]
  },
  {
   "cell_type": "markdown",
   "id": "ccf88d63",
   "metadata": {},
   "source": [
    "**1. Problem description:** Remove duplicates in a string\n",
    "\n",
    "Input:\n",
    "```bash\n",
    "abbaca\n",
    "```\n",
    "\n",
    "Output:\n",
    "```bash\n",
    "ca\n",
    "```"
   ]
  },
  {
   "cell_type": "code",
   "execution_count": 1,
   "id": "83b172c5",
   "metadata": {},
   "outputs": [],
   "source": [
    "def remove_duplicates(string: str) -> str:\n",
    "    stack = []\n",
    "\n",
    "    for char in string:\n",
    "        if stack and char == stack[-1]:\n",
    "            stack.pop()\n",
    "        else:\n",
    "            stack.append(char)\n",
    "\n",
    "    return \"\".join(stack)"
   ]
  },
  {
   "cell_type": "code",
   "execution_count": 4,
   "id": "7a91b66a",
   "metadata": {},
   "outputs": [],
   "source": [
    "assert remove_duplicates(\"abbaca\") == \"ca\""
   ]
  },
  {
   "cell_type": "markdown",
   "id": "fd42893b",
   "metadata": {},
   "source": [
    "- - -"
   ]
  },
  {
   "cell_type": "markdown",
   "id": "ea26c4c9",
   "metadata": {},
   "source": [
    "**2. Problem description:** Find the longest subsection with a delta equal to 1\n",
    "\n",
    "Input:\n",
    "```python\n",
    "input_array = [3, 1, 54, 2, 7, 6, 98, 1, 99, 101, 100, 2, 97]\n",
    "```\n",
    "\n",
    "Output:\n",
    "```python\n",
    "output_array = [97, 98, 99, 100, 101]\n",
    "```"
   ]
  },
  {
   "cell_type": "code",
   "execution_count": 11,
   "id": "24fe51c6",
   "metadata": {},
   "outputs": [],
   "source": [
    "from typing import List\n",
    "\n",
    "\n",
    "def find_longest_subsection(array: List[int]) -> List[int]:\n",
    "    nums_set = set(array)\n",
    "    current, longest = [], []\n",
    "\n",
    "    for i in nums_set:\n",
    "        if i - 1 not in nums_set:\n",
    "            j = i\n",
    "            while j in nums_set:\n",
    "                current.append(j)\n",
    "                j += 1\n",
    "            if len(current) > len(longest):\n",
    "                longest = current[:]\n",
    "            current = []\n",
    "\n",
    "    return longest"
   ]
  },
  {
   "cell_type": "code",
   "execution_count": 106,
   "id": "2766f649",
   "metadata": {},
   "outputs": [],
   "source": [
    "assert find_longest_subsection([3, 1, 54, 2, 7, 6, 98, 1, 99, 101, 100, 2, 97]) == [97, 98, 99, 100, 101]"
   ]
  },
  {
   "cell_type": "markdown",
   "id": "a42ee501",
   "metadata": {},
   "source": [
    "- - -"
   ]
  },
  {
   "cell_type": "markdown",
   "id": "2f67c6f3-f628-4cf3-b559-472b51e7d679",
   "metadata": {},
   "source": [
    "**3. Problem description:** Check whether the input string contains balanced brackets\n",
    "\n",
    "Input:\n",
    "```bash\n",
    "{{(((([[[[]]]]))))}}\n",
    "```\n",
    "\n",
    "Output:\n",
    "```\n",
    "True\n",
    "```\n",
    "\n",
    "Input:\n",
    "```bash\n",
    "{(})()[\n",
    "```\n",
    "\n",
    "Output:\n",
    "```bash\n",
    "False\n",
    "```"
   ]
  },
  {
   "cell_type": "code",
   "execution_count": 108,
   "id": "78c0dac3-c4d7-4cb5-968c-8cb41736d7b0",
   "metadata": {},
   "outputs": [],
   "source": [
    "def is_brackets_balanced(input_string: str) -> bool:\n",
    "    brackets = {\n",
    "        \"(\": \")\",\n",
    "        \"[\": \"]\",\n",
    "        \"{\": \"}\"\n",
    "    }\n",
    "\n",
    "    stack = []\n",
    "\n",
    "    for char in input_string:\n",
    "        if char in brackets.keys():\n",
    "            stack.append(char)\n",
    "        elif char in brackets.values():\n",
    "            if stack == [] or brackets[stack[-1]] != char:\n",
    "                return False\n",
    "            stack.pop()\n",
    "\n",
    "    return len(stack) == 0"
   ]
  },
  {
   "cell_type": "code",
   "execution_count": 109,
   "id": "8cfe86a8-3044-4f4a-b2f4-e1be9ab371fa",
   "metadata": {},
   "outputs": [],
   "source": [
    "assert is_brackets_balanced(\"{{(((([[[[]]]]))))}}\") == True\n",
    "assert is_brackets_balanced(\"{(})()[\") == False\n",
    "assert is_brackets_balanced(\"[([)\") == False\n",
    "assert is_brackets_balanced(\"[][][(])\") == False"
   ]
  },
  {
   "cell_type": "markdown",
   "id": "8572de4a-c23f-44be-9213-faebad29882b",
   "metadata": {},
   "source": [
    "- - -"
   ]
  },
  {
   "cell_type": "markdown",
   "id": "50d0fb50",
   "metadata": {},
   "source": [
    "**4. Problem description:** Return an array containing the missing values\n",
    "\n",
    "Input:\n",
    "```python\n",
    "input_array = [2, 6, 10]\n",
    "```\n",
    "\n",
    "Output:\n",
    "```python\n",
    "output_array = [3, 4, 5, 7, 8, 9]\n",
    "```"
   ]
  },
  {
   "cell_type": "code",
   "execution_count": 17,
   "id": "e08c52bc",
   "metadata": {},
   "outputs": [],
   "source": [
    "from typing import List\n",
    "\n",
    "\n",
    "def find_missing_values(input_array: List[int]) -> List[int]:\n",
    "    input_set = set(input_array)\n",
    "\n",
    "    full_range = set(range(min(input_array), max(input_array) + 1))\n",
    "    output_array = sorted(full_range - input_set)\n",
    "\n",
    "    return output_array"
   ]
  },
  {
   "cell_type": "code",
   "execution_count": 18,
   "id": "92246b89",
   "metadata": {},
   "outputs": [],
   "source": [
    "assert find_missing_values([2, 6, 10]) == [3, 4, 5, 7, 8, 9]\n",
    "assert find_missing_values([1, 5]) == [2, 3, 4]\n",
    "assert find_missing_values([1, 2, 3, 4, 5]) == []"
   ]
  },
  {
   "cell_type": "markdown",
   "id": "167d82fa",
   "metadata": {},
   "source": [
    "- - -"
   ]
  },
  {
   "cell_type": "markdown",
   "id": "332b95b3",
   "metadata": {},
   "source": [
    "**5. Problem description:** Find non-repeating elements\n",
    "\n",
    "Input:\n",
    "```python\n",
    "input_array = [1, 1, 3, 4, 5, 6, 6, 8, 8, 3]\n",
    "```\n",
    "\n",
    "Output:\n",
    "```python\n",
    "output_array = [4, 5]\n",
    "```"
   ]
  },
  {
   "cell_type": "code",
   "execution_count": null,
   "id": "ee5a94ba",
   "metadata": {},
   "outputs": [],
   "source": [
    "from typing import List\n",
    "\n",
    "\n",
    "def find_non_repeating_elements(numbers: List[int]) -> List[int]:\n",
    "    seen, repeated = set(), set()\n",
    "\n",
    "    for number in numbers:\n",
    "        if number in seen:\n",
    "            repeated.add(number)\n",
    "        else:\n",
    "            seen.add(number)\n",
    "\n",
    "    return list(seen - repeated)"
   ]
  },
  {
   "cell_type": "code",
   "execution_count": 11,
   "id": "81923599",
   "metadata": {},
   "outputs": [],
   "source": [
    "assert find_non_repeating_elements([1, 1, 3, 4, 5, 6, 6, 8, 8, 3]) == [4, 5]\n",
    "assert find_non_repeating_elements([1, 2, 3, 4, 5]) == [1, 2, 3, 4, 5]\n",
    "assert find_non_repeating_elements([1, 1, 1, 1]) == []"
   ]
  },
  {
   "cell_type": "markdown",
   "id": "50e85df1",
   "metadata": {},
   "source": [
    "- - -"
   ]
  },
  {
   "cell_type": "markdown",
   "id": "c4bf0c74",
   "metadata": {},
   "source": [
    "**6. Problem description:** Find anagram pairs in two lists.\n",
    "\n",
    "The task at hand for this problem is to identify all pairs of anagrams where each pair is made up of one word from the first list and one from the second list. For those unfamiliar, an anagram is a word or phrase that is created by rearranging the letters of another word or phrase, using all the original letters exactly once.\n",
    "\n",
    "Input:\n",
    "```python\n",
    "input_list_1 = [\"listen\", \"read\"]\n",
    "input_list_2 = [\"breathe\", \"silent\"]\n",
    "```\n",
    "\n",
    "Output:\n",
    "```python\n",
    "output_list = [(\"listen\", \"silent\")]\n",
    "```"
   ]
  },
  {
   "cell_type": "code",
   "execution_count": 13,
   "id": "db4d456a",
   "metadata": {},
   "outputs": [],
   "source": [
    "from typing import Tuple, List\n",
    "\n",
    "\n",
    "def find_anagrams(list_1: List[str], list_2: List[str]) -> List[Tuple[str]]:\n",
    "    output = []\n",
    "\n",
    "    sorted_tuples_1 = set(tuple(sorted(word)) for word in list_1)\n",
    "    sorted_tuples_2 = set(tuple(sorted(word)) for word in list_2)\n",
    "\n",
    "    common_tuples = sorted_tuples_1 & sorted_tuples_2\n",
    "\n",
    "    list_1_output = [word for word in list_1 if tuple(sorted(word)) in common_tuples]\n",
    "    list_2_output = [word for word in list_2 if tuple(sorted(word)) in common_tuples]\n",
    "\n",
    "    for word1 in list_1_output:\n",
    "        for word2 in list_2_output:\n",
    "            if tuple(sorted(word1)) == tuple(sorted(word2)):\n",
    "                output.append((word1, word2))\n",
    "\n",
    "    return output"
   ]
  },
  {
   "cell_type": "code",
   "execution_count": 18,
   "id": "0f12abe5",
   "metadata": {},
   "outputs": [],
   "source": [
    "assert find_anagrams([\"listen\", \"read\"], [\"breathe\", \"silent\"]) == [(\"listen\", \"silent\")]\n",
    "assert find_anagrams([\"bat\", \"tab\", \"cat\"], [\"tac\", \"abt\", \"dog\"]) == [\n",
    "    (\"bat\", \"abt\"),\n",
    "    (\"tab\", \"abt\"),\n",
    "    (\"cat\", \"tac\"),\n",
    "]\n",
    "assert find_anagrams([], []) == []"
   ]
  },
  {
   "cell_type": "markdown",
   "id": "655eb319",
   "metadata": {},
   "source": [
    "- - -"
   ]
  },
  {
   "cell_type": "markdown",
   "id": "4d916a5c",
   "metadata": {},
   "source": [
    "**7. Problem description:** Find the three most frequently occurring words from the text\n",
    "\n",
    "Input:\n",
    "```text\n",
    "apple banana apple orange banana apple grape grape grape\n",
    "```\n",
    "\n",
    "Output:\n",
    "```text\n",
    "[('apple', 3), ('grape', 3), ('banana', 2)]\n",
    "```"
   ]
  },
  {
   "cell_type": "code",
   "execution_count": 24,
   "id": "b3bd53d4",
   "metadata": {},
   "outputs": [],
   "source": [
    "from typing import List\n",
    "from collections import defaultdict\n",
    "\n",
    "\n",
    "def find_frequent_words(text: str) -> List[str]:\n",
    "    text = text.lower()\n",
    "    word_counts = defaultdict(int)\n",
    "    word_list = text.split()\n",
    "\n",
    "    for word in word_list:\n",
    "        word_counts[word] += 1\n",
    "\n",
    "    top_three = sorted(word_counts.items(), key=lambda x: x[1], reverse=True)[:3]\n",
    "\n",
    "    return top_three"
   ]
  },
  {
   "cell_type": "code",
   "execution_count": 25,
   "id": "6331b51f",
   "metadata": {},
   "outputs": [],
   "source": [
    "assert find_frequent_words(\"apple banana apple orange banana apple grape grape grape\") == (\n",
    "    [(\"apple\", 3), (\"grape\", 3), (\"banana\", 2)]\n",
    ")"
   ]
  },
  {
   "cell_type": "markdown",
   "id": "c6cea157",
   "metadata": {},
   "source": [
    "- - -"
   ]
  },
  {
   "cell_type": "markdown",
   "id": "2c3e02e9",
   "metadata": {},
   "source": [
    "**8. Problem description:** Identify the \"majority\" element in a list.\n",
    "\n",
    "The \"majority element\" in a list is an element that appears more than `n / 2` times. Given a list of integers, our aim is to identify the majority element.\n",
    "\n",
    "Input:\n",
    "```python\n",
    "input_array = [1, 2, 2, 2, 3, 4, 5, 2, 2]\n",
    "```\n",
    "\n",
    "Output:\n",
    "```python\n",
    "majority_element = 2\n",
    "```"
   ]
  },
  {
   "cell_type": "code",
   "execution_count": 12,
   "id": "364c92a0",
   "metadata": {},
   "outputs": [],
   "source": [
    "from typing import List\n",
    "\n",
    "\n",
    "def find_majority_element(listA: List[int]) -> int:\n",
    "    count_dict = {}\n",
    "\n",
    "    for element in listA:\n",
    "        count_dict[element] = count_dict.get(element, 0) + 1\n",
    "        if count_dict[element] > len(listA) // 2:\n",
    "            return element\n",
    "\n",
    "    return -1"
   ]
  },
  {
   "cell_type": "code",
   "execution_count": 13,
   "id": "5baa46e4",
   "metadata": {},
   "outputs": [],
   "source": [
    "assert find_majority_element([1, 2, 2, 2, 3, 4, 5, 2, 2]) == 2\n",
    "assert find_majority_element([1, 1, 1, 1, 1, 1]) == 1\n",
    "assert find_majority_element([10, 20, 30, 40, 50]) == -1\n",
    "assert find_majority_element([]) == -1"
   ]
  },
  {
   "cell_type": "markdown",
   "id": "ec16a8fe",
   "metadata": {},
   "source": [
    "- - -"
   ]
  },
  {
   "cell_type": "markdown",
   "id": "14e549d4",
   "metadata": {},
   "source": [
    "**9. Problem description:** Locate the first and last position of an element in a sorted array\n",
    "\n",
    "Input:\n",
    "```python\n",
    "element = 4\n",
    "input_array = [2, 4, 4, 4, 6, 8]\n",
    "```\n",
    "\n",
    "Output:\n",
    "```python\n",
    "output_array = [1, 3]\n",
    "```"
   ]
  },
  {
   "cell_type": "code",
   "execution_count": null,
   "id": "a6026677",
   "metadata": {},
   "outputs": [],
   "source": [
    "def get_first_last_pos(nums, target):\n",
    "    def binary_search(left, right, find_first):\n",
    "        if left <= right:\n",
    "            mid = (left + right) // 2\n",
    "\n",
    "            if nums[mid] > target or (find_first and target == nums[mid]):\n",
    "                return binary_search(left, mid - 1, find_first)\n",
    "            else:\n",
    "                return binary_search(mid + 1, right, find_first)\n",
    "\n",
    "        return left\n",
    "\n",
    "    first = binary_search(0, len(nums) - 1, True)\n",
    "    last = binary_search(0, len(nums) - 1, False) - 1\n",
    "\n",
    "    if first <= last:\n",
    "        return [first, last]\n",
    "    else:\n",
    "        return [-1, -1]"
   ]
  },
  {
   "cell_type": "code",
   "execution_count": 21,
   "id": "5221ebe5",
   "metadata": {},
   "outputs": [],
   "source": [
    "assert get_first_last_pos([2, 4, 4, 4, 6, 8], 4) == [1, 3]"
   ]
  },
  {
   "cell_type": "markdown",
   "id": "fcb5bad7",
   "metadata": {},
   "source": [
    "- - -"
   ]
  },
  {
   "cell_type": "markdown",
   "id": "9a3bdb71",
   "metadata": {},
   "source": [
    "**10. Problem description:** Find or define insert position in a sorted list\n",
    "\n",
    "Input:\n",
    "```python\n",
    "element = 3\n",
    "input_array = [1, 2, 3, 3, 5]\n",
    "```\n",
    "\n",
    "Output:\n",
    "```python\n",
    "output = 2\n",
    "```\n",
    "\n",
    "Input:\n",
    "```python\n",
    "element = 4\n",
    "input_array = [1, 2, 3, 3, 5]\n",
    "```\n",
    "\n",
    "Output:\n",
    "```python\n",
    "output = 4\n",
    "```"
   ]
  },
  {
   "cell_type": "code",
   "execution_count": 25,
   "id": "e2bb383f",
   "metadata": {},
   "outputs": [],
   "source": [
    "from typing import List\n",
    "\n",
    "\n",
    "def search_insert(nums: List[int], target: int) -> int:\n",
    "    nums.append(float(\"inf\"))\n",
    "    left, right = 0, len(nums)\n",
    "\n",
    "    while right - left > 1:\n",
    "        mid = (left + right) // 2\n",
    "\n",
    "        if nums[mid] < target:\n",
    "            left = mid\n",
    "        else:\n",
    "            right = mid\n",
    "\n",
    "    return mid"
   ]
  },
  {
   "cell_type": "code",
   "execution_count": null,
   "id": "d786ea47",
   "metadata": {},
   "outputs": [],
   "source": [
    "assert search_insert([1, 2, 3, 3, 5], 3) == 2\n",
    "assert search_insert([1, 2, 3, 3, 5], 4) == 4\n",
    "assert search_insert([1, 3, 5, 7, 9], 10) == 5"
   ]
  },
  {
   "cell_type": "markdown",
   "id": "1fc2ff91",
   "metadata": {},
   "source": [
    "- - -"
   ]
  },
  {
   "cell_type": "markdown",
   "id": "b2f0bb37",
   "metadata": {},
   "source": [
    "**11. Problem description:** Count the number of inversions in a list\n",
    "\n",
    "An inversion is a pair of elements where the larger element appears before the smaller one. In other words, if we have two indices `i` and `j`, where `i < j` and the element at position `i` is greater than the element at position `j` (`numbers[i] > numbers[j]`), we have an inversion.\n",
    "\n",
    "Input:\n",
    "```python\n",
    "input_array = [4, 2, 1, 3]\n",
    "```\n",
    "\n",
    "Output:\n",
    "```python\n",
    "number_of_inversions = 4\n",
    "```"
   ]
  },
  {
   "cell_type": "code",
   "execution_count": 32,
   "id": "a5d98e23",
   "metadata": {},
   "outputs": [],
   "source": [
    "def count_inversions(arr):\n",
    "    if len(arr) <= 1:\n",
    "        return arr, 0\n",
    "    else:\n",
    "        middle = int(len(arr) / 2)\n",
    "\n",
    "        left, a = count_inversions(arr[:middle])\n",
    "        right, b = count_inversions(arr[middle:])\n",
    "        result, c = merge_count_inversions(left, right)\n",
    "\n",
    "        return result, (a + b + c)\n",
    "\n",
    "\n",
    "def merge_count_inversions(x, y):\n",
    "    count = 0\n",
    "    i, j = 0, 0\n",
    "    merged = []\n",
    "\n",
    "    while i < len(x) and j < len(y):\n",
    "        if x[i] < y[j]:\n",
    "            merged.append(x[i])\n",
    "            i += 1\n",
    "        else:\n",
    "            merged.append(y[j])\n",
    "            j+= 1\n",
    "            count += len(x) - i\n",
    "\n",
    "    merged += x[i:]\n",
    "    merged += y[j:]\n",
    "\n",
    "    return merged, count"
   ]
  },
  {
   "cell_type": "code",
   "execution_count": 33,
   "id": "821bf014",
   "metadata": {},
   "outputs": [],
   "source": [
    "assert count_inversions([4, 2, 1, 3]) == ([1, 2, 3, 4], 4)"
   ]
  },
  {
   "cell_type": "markdown",
   "id": "5447d8f3",
   "metadata": {},
   "source": [
    "- - -"
   ]
  },
  {
   "cell_type": "markdown",
   "id": "844d89f5",
   "metadata": {},
   "source": [
    "**12. Problem description:** Flatten a nested list\n",
    "\n",
    "Input:\n",
    "```python\n",
    "input_array = [1, 2, [3, 4], [5, 6, 7, [8]], 9, [10]]\n",
    "```\n",
    "\n",
    "Output:\n",
    "```python\n",
    "output_array = [1, 2, 3, 4, 5, 6, 7, 8, 9, 10]\n",
    "```"
   ]
  },
  {
   "cell_type": "code",
   "execution_count": 40,
   "id": "7c1333f7",
   "metadata": {},
   "outputs": [],
   "source": [
    "def flatten_list(array):\n",
    "    output = []\n",
    "\n",
    "    for element in array:\n",
    "        if isinstance(element, list):\n",
    "            output.extend(flatten_list(element))\n",
    "        else:\n",
    "            output.append(element)\n",
    "\n",
    "    return output"
   ]
  },
  {
   "cell_type": "code",
   "execution_count": 41,
   "id": "bb55c3d5",
   "metadata": {},
   "outputs": [],
   "source": [
    "input_array = [1, 2, [3, 4], [5, 6, 7, [8]], 9, [10]]\n",
    "expected_array = [1, 2, 3, 4, 5, 6, 7, 8, 9, 10]\n",
    "\n",
    "assert flatten_list(input_array) == expected_array"
   ]
  },
  {
   "cell_type": "markdown",
   "id": "c9fca0c5",
   "metadata": {},
   "source": [
    "- - -"
   ]
  },
  {
   "cell_type": "markdown",
   "id": "389eb3e4",
   "metadata": {},
   "source": [
    "**13. Problem description:** Postfix expression evaluation\n",
    "\n",
    "In simple terms, a postfix expression is an arithmetic expression where operators are placed after their operands. For example, the expression `2 3 +` is a simple postfix expression, which equals 5 when evaluated.\n",
    "\n",
    "Input:\n",
    "```text\n",
    "2 3 +\n",
    "```\n",
    "\n",
    "Output:\n",
    "```text\n",
    "5\n",
    "```"
   ]
  },
  {
   "cell_type": "code",
   "execution_count": 50,
   "id": "cb8319d8",
   "metadata": {},
   "outputs": [],
   "source": [
    "def evaluate_postfix(expression: str) -> float:\n",
    "    stack = []\n",
    "\n",
    "    for element in expression.split(\" \"):\n",
    "        if element.isdigit():\n",
    "            stack.append(int(element))\n",
    "        else:\n",
    "            operand2 = stack.pop()\n",
    "            operand1 = stack.pop()\n",
    "\n",
    "            if element == \"+\":\n",
    "                stack.append(operand1 + operand2)\n",
    "            elif element == \"-\":\n",
    "                stack.append(operand1 - operand2)\n",
    "            elif element == \"*\":\n",
    "                stack.append(operand1 * operand2)\n",
    "            elif element == \"/\":\n",
    "                stack.append(operand1 / operand2)\n",
    "\n",
    "    return stack[0]"
   ]
  },
  {
   "cell_type": "code",
   "execution_count": 51,
   "id": "5196b0c3",
   "metadata": {},
   "outputs": [],
   "source": [
    "assert evaluate_postfix(\"2 3 +\") == 5"
   ]
  },
  {
   "cell_type": "markdown",
   "id": "0a724055",
   "metadata": {},
   "source": [
    "- - -"
   ]
  },
  {
   "cell_type": "markdown",
   "id": "ce49574c",
   "metadata": {},
   "source": [
    "**14. Problem description:** Calculate moving average from data stream\n",
    "\n",
    "Example:\n",
    "```text\n",
    "window_size = 3\n",
    "\n",
    "Value    MVA\n",
    "  3   ->  3\n",
    "  3   ->  3\n",
    "  5   ->  3.67\n",
    "  4   ->  4.0\n",
    "  4   ->  4.33\n",
    "  3   ->  3.67\n",
    "```"
   ]
  },
  {
   "cell_type": "code",
   "execution_count": 61,
   "id": "ab3067bf",
   "metadata": {},
   "outputs": [],
   "source": [
    "from collections import deque\n",
    "\n",
    "\n",
    "class MovingAverage:\n",
    "    def __init__(self, size):\n",
    "        self.queue = deque()\n",
    "        self.size = size\n",
    "        self.total = 0\n",
    "\n",
    "    def calculate_moving_average(self, value):\n",
    "        if len(self.queue) == self.size:\n",
    "            self.total -= self.queue.popleft()\n",
    "\n",
    "        self.queue.append(value)\n",
    "        self.total += value\n",
    "\n",
    "        return round(self.total / len(self.queue), 2)"
   ]
  },
  {
   "cell_type": "code",
   "execution_count": 62,
   "id": "d7231a0b",
   "metadata": {},
   "outputs": [],
   "source": [
    "ma = MovingAverage(3)\n",
    "\n",
    "assert ma.calculate_moving_average(3) == 3\n",
    "assert ma.calculate_moving_average(3) == 3\n",
    "assert ma.calculate_moving_average(5) == 3.67\n",
    "assert ma.calculate_moving_average(4) == 4.0\n",
    "assert ma.calculate_moving_average(4) == 4.33\n",
    "assert ma.calculate_moving_average(3) == 3.67"
   ]
  },
  {
   "cell_type": "markdown",
   "id": "c23bb64b",
   "metadata": {},
   "source": [
    "- - -"
   ]
  },
  {
   "cell_type": "markdown",
   "id": "5e51ee9e",
   "metadata": {},
   "source": [
    "**15. Problem description:** Implement the `BFS` algorithm, showing the __level__ for each vertex\n",
    "\n",
    "Input:\n",
    "```python\n",
    "graph = {\n",
    "    \"1\": [\"2\", \"3\", \"4\"],\n",
    "    \"2\": [\"5\", \"6\"],\n",
    "    \"3\": [\"7\"],\n",
    "    \"4\": [\"8\", \"9\"],\n",
    "    \"5\": [],\n",
    "    \"6\": [\"10\"],\n",
    "    \"7\": [\"11\", \"12\"],\n",
    "    \"8\": [],\n",
    "    \"9\": [],\n",
    "    \"10\": [],\n",
    "    \"11\": [],\n",
    "    \"12\": [],\n",
    "}\n",
    "```\n",
    "\n",
    "Output:\n",
    "```python\n",
    "output = {\n",
    "    \"1\": 0,\n",
    "    \"2\": 1,\n",
    "    \"3\": 1,\n",
    "    \"4\": 1,\n",
    "    \"5\": 2,\n",
    "    \"6\": 2,\n",
    "    \"7\": 2,\n",
    "    \"8\": 2,\n",
    "    \"9\": 2,\n",
    "    \"10\": 3,\n",
    "    \"11\": 3,\n",
    "    \"12\": 3,\n",
    "}\n",
    "```"
   ]
  },
  {
   "cell_type": "code",
   "execution_count": 5,
   "id": "8aa6958c",
   "metadata": {},
   "outputs": [],
   "source": [
    "from collections import deque\n",
    "\n",
    "\n",
    "def bfs(graph, root):\n",
    "    visited = []\n",
    "    queue = deque()\n",
    "    queue.append(root)\n",
    "\n",
    "    level = {root: 0}\n",
    "\n",
    "    while queue:\n",
    "        vertex = queue.popleft()\n",
    "        visited.append(vertex)\n",
    "\n",
    "        level_of_vertex = level[vertex] + 1\n",
    "\n",
    "        for child in graph[vertex]:\n",
    "            if child not in visited:\n",
    "                queue.append(child)\n",
    "                level[child] = level_of_vertex\n",
    "\n",
    "    return level"
   ]
  },
  {
   "cell_type": "code",
   "execution_count": 6,
   "id": "70548613",
   "metadata": {},
   "outputs": [],
   "source": [
    "graph = {\n",
    "    \"1\": [\"2\", \"3\", \"4\"],\n",
    "    \"2\": [\"5\", \"6\"],\n",
    "    \"3\": [\"7\"],\n",
    "    \"4\": [\"8\", \"9\"],\n",
    "    \"5\": [],\n",
    "    \"6\": [\"10\"],\n",
    "    \"7\": [\"11\", \"12\"],\n",
    "    \"8\": [],\n",
    "    \"9\": [],\n",
    "    \"10\": [],\n",
    "    \"11\": [],\n",
    "    \"12\": [],\n",
    "}\n",
    "\n",
    "output = {\n",
    "    \"1\": 0,\n",
    "    \"2\": 1,\n",
    "    \"3\": 1,\n",
    "    \"4\": 1,\n",
    "    \"5\": 2,\n",
    "    \"6\": 2,\n",
    "    \"7\": 2,\n",
    "    \"8\": 2,\n",
    "    \"9\": 2,\n",
    "    \"10\": 3,\n",
    "    \"11\": 3,\n",
    "    \"12\": 3,\n",
    "}\n",
    "\n",
    "assert bfs(graph, \"1\") == output"
   ]
  },
  {
   "cell_type": "markdown",
   "id": "ffe64556",
   "metadata": {},
   "source": [
    "- - -"
   ]
  },
  {
   "cell_type": "markdown",
   "id": "b65d6139",
   "metadata": {},
   "source": [
    "**16. Problem description:** Implement argument pre-filling using the `partial` module"
   ]
  },
  {
   "cell_type": "code",
   "execution_count": 7,
   "id": "ba1a07f1",
   "metadata": {},
   "outputs": [],
   "source": [
    "from functools import partial\n",
    "\n",
    "\n",
    "def power(base: int, exp: int) -> int:\n",
    "    return base ** exp\n",
    "\n",
    "square = partial(power, exp=2)"
   ]
  },
  {
   "cell_type": "code",
   "execution_count": 9,
   "id": "589104c3",
   "metadata": {},
   "outputs": [
    {
     "data": {
      "text/plain": [
       "100"
      ]
     },
     "execution_count": 9,
     "metadata": {},
     "output_type": "execute_result"
    }
   ],
   "source": [
    "square(10)"
   ]
  },
  {
   "cell_type": "markdown",
   "id": "77a6164e",
   "metadata": {},
   "source": [
    "- - -"
   ]
  },
  {
   "cell_type": "markdown",
   "id": "4438d210",
   "metadata": {},
   "source": [
    "**17. Problem description:** Find the biggest difference between the heights of left and right subtrees, considering all nodes in the given BST"
   ]
  },
  {
   "cell_type": "code",
   "execution_count": 16,
   "id": "dfd8e54a",
   "metadata": {},
   "outputs": [],
   "source": [
    "class TreeNode:\n",
    "    def __init__(self, x):\n",
    "        self.val = x\n",
    "        self.left = None\n",
    "        self.right = None"
   ]
  },
  {
   "cell_type": "code",
   "execution_count": 17,
   "id": "cbbcab37",
   "metadata": {},
   "outputs": [],
   "source": [
    "def max_height_diff(root):\n",
    "    def height(node):\n",
    "        if node is None:\n",
    "            return 0\n",
    "\n",
    "        return max(height(node.left), height(node.right)) + 1\n",
    "\n",
    "    if root is None:\n",
    "        return 0\n",
    "\n",
    "    left_node_current = height(root.left)\n",
    "    right_node_current = height(root.right)\n",
    "\n",
    "    difference = abs(left_node_current - right_node_current)\n",
    "\n",
    "    left_node_next = max_height_diff(root.left)\n",
    "    right_node_next = max_height_diff(root.right)\n",
    "\n",
    "    return max(difference, left_node_next, right_node_next)"
   ]
  },
  {
   "cell_type": "code",
   "execution_count": 18,
   "id": "7e450ba5",
   "metadata": {},
   "outputs": [],
   "source": [
    "root = TreeNode(10)\n",
    "\n",
    "root.left = TreeNode(5)\n",
    "root.right = TreeNode(15)\n",
    "\n",
    "root.right.left = TreeNode(13)\n",
    "root.right.right = TreeNode(17)"
   ]
  },
  {
   "cell_type": "code",
   "execution_count": 19,
   "id": "6548d562",
   "metadata": {},
   "outputs": [],
   "source": [
    "assert max_height_diff(root) == 1"
   ]
  },
  {
   "cell_type": "markdown",
   "id": "90fee172",
   "metadata": {},
   "source": [
    "- - -"
   ]
  }
 ],
 "metadata": {
  "kernelspec": {
   "display_name": "tasks-python-2025-6Ww2c-73-py3.11",
   "language": "python",
   "name": "python3"
  },
  "language_info": {
   "codemirror_mode": {
    "name": "ipython",
    "version": 3
   },
   "file_extension": ".py",
   "mimetype": "text/x-python",
   "name": "python",
   "nbconvert_exporter": "python",
   "pygments_lexer": "ipython3",
   "version": "3.11.6"
  }
 },
 "nbformat": 4,
 "nbformat_minor": 5
}
