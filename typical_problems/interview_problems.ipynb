{
 "cells": [
  {
   "cell_type": "markdown",
   "id": "509c67bc",
   "metadata": {},
   "source": [
    "# Interview problems"
   ]
  },
  {
   "cell_type": "markdown",
   "id": "8e6afbe0",
   "metadata": {},
   "source": [
    "- - -"
   ]
  },
  {
   "cell_type": "markdown",
   "id": "ccf88d63",
   "metadata": {},
   "source": [
    "**1. Problem description:** Remove duplicates in a string\n",
    "\n",
    "Input:\n",
    "```bash\n",
    "abbaca\n",
    "```\n",
    "\n",
    "Output:\n",
    "```bash\n",
    "ca\n",
    "```"
   ]
  },
  {
   "cell_type": "code",
   "execution_count": 2,
   "id": "83b172c5",
   "metadata": {},
   "outputs": [],
   "source": [
    "def remove_duplicates(string: str) -> str:\n",
    "    stack = []\n",
    "\n",
    "    for char in string:\n",
    "        if stack and char == stack[-1]:\n",
    "            stack.pop()\n",
    "        else:\n",
    "            stack.append(char)\n",
    "\n",
    "    return \"\".join(stack)"
   ]
  },
  {
   "cell_type": "code",
   "execution_count": 3,
   "id": "7a91b66a",
   "metadata": {},
   "outputs": [],
   "source": [
    "assert remove_duplicates(\"abbaca\") == \"ca\""
   ]
  },
  {
   "cell_type": "markdown",
   "id": "fd42893b",
   "metadata": {},
   "source": [
    "- - -"
   ]
  },
  {
   "cell_type": "markdown",
   "id": "ea26c4c9",
   "metadata": {},
   "source": [
    "**2. Problem description:** Find the longest subsection with a delta equal to 1\n",
    "\n",
    "Input:\n",
    "```python\n",
    "input_array = [3, 1, 54, 2, 7, 6, 98, 1, 99, 101, 100, 2, 97]\n",
    "```\n",
    "\n",
    "Output:\n",
    "```python\n",
    "output_array = [97, 98, 99, 100, 101]\n",
    "```"
   ]
  },
  {
   "cell_type": "code",
   "execution_count": null,
   "id": "24fe51c6",
   "metadata": {},
   "outputs": [],
   "source": [
    "from typing import List\n",
    "\n",
    "\n",
    "def find_longest_subsection(array: List[int]) -> List[int]:\n",
    "    pass"
   ]
  },
  {
   "cell_type": "code",
   "execution_count": null,
   "id": "2766f649",
   "metadata": {},
   "outputs": [],
   "source": [
    "assert find_longest_subsection([3, 1, 54, 2, 7, 6, 98, 1, 99, 101, 100, 2, 97]) == [97, 98, 99, 100, 101]"
   ]
  },
  {
   "cell_type": "markdown",
   "id": "a42ee501",
   "metadata": {},
   "source": [
    "- - -"
   ]
  }
 ],
 "metadata": {
  "kernelspec": {
   "display_name": "tasks-python-2025-6Ww2c-73-py3.11",
   "language": "python",
   "name": "python3"
  },
  "language_info": {
   "codemirror_mode": {
    "name": "ipython",
    "version": 3
   },
   "file_extension": ".py",
   "mimetype": "text/x-python",
   "name": "python",
   "nbconvert_exporter": "python",
   "pygments_lexer": "ipython3",
   "version": "3.11.6"
  }
 },
 "nbformat": 4,
 "nbformat_minor": 5
}
