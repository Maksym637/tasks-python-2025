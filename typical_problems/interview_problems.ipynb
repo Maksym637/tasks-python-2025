{
 "cells": [
  {
   "cell_type": "markdown",
   "id": "509c67bc",
   "metadata": {},
   "source": [
    "# Interview problems"
   ]
  },
  {
   "cell_type": "markdown",
   "id": "8e6afbe0",
   "metadata": {},
   "source": [
    "- - -"
   ]
  },
  {
   "cell_type": "markdown",
   "id": "ccf88d63",
   "metadata": {},
   "source": [
    "**1. Problem description:** Remove duplicates in a string\n",
    "\n",
    "Input:\n",
    "```bash\n",
    "abbaca\n",
    "```\n",
    "\n",
    "Output:\n",
    "```bash\n",
    "ca\n",
    "```"
   ]
  },
  {
   "cell_type": "code",
   "execution_count": 1,
   "id": "83b172c5",
   "metadata": {},
   "outputs": [],
   "source": [
    "def remove_duplicates(string: str) -> str:\n",
    "    stack = []\n",
    "\n",
    "    for char in string:\n",
    "        if stack and char == stack[-1]:\n",
    "            stack.pop()\n",
    "        else:\n",
    "            stack.append(char)\n",
    "\n",
    "    return \"\".join(stack)"
   ]
  },
  {
   "cell_type": "code",
   "execution_count": 4,
   "id": "7a91b66a",
   "metadata": {},
   "outputs": [],
   "source": [
    "assert remove_duplicates(\"abbaca\") == \"ca\""
   ]
  },
  {
   "cell_type": "markdown",
   "id": "fd42893b",
   "metadata": {},
   "source": [
    "- - -"
   ]
  },
  {
   "cell_type": "markdown",
   "id": "ea26c4c9",
   "metadata": {},
   "source": [
    "**2. Problem description:** Find the longest subsection with a delta equal to 1\n",
    "\n",
    "Input:\n",
    "```python\n",
    "input_array = [3, 1, 54, 2, 7, 6, 98, 1, 99, 101, 100, 2, 97]\n",
    "```\n",
    "\n",
    "Output:\n",
    "```python\n",
    "output_array = [97, 98, 99, 100, 101]\n",
    "```"
   ]
  },
  {
   "cell_type": "code",
   "execution_count": 11,
   "id": "24fe51c6",
   "metadata": {},
   "outputs": [],
   "source": [
    "from typing import List\n",
    "\n",
    "\n",
    "def find_longest_subsection(array: List[int]) -> List[int]:\n",
    "    nums_set = set(array)\n",
    "    current, longest = [], []\n",
    "\n",
    "    for i in nums_set:\n",
    "        if i - 1 not in nums_set:\n",
    "            j = i\n",
    "            while j in nums_set:\n",
    "                current.append(j)\n",
    "                j += 1\n",
    "            if len(current) > len(longest):\n",
    "                longest = current[:]\n",
    "            current = []\n",
    "\n",
    "    return longest"
   ]
  },
  {
   "cell_type": "code",
   "execution_count": 106,
   "id": "2766f649",
   "metadata": {},
   "outputs": [],
   "source": [
    "assert find_longest_subsection([3, 1, 54, 2, 7, 6, 98, 1, 99, 101, 100, 2, 97]) == [97, 98, 99, 100, 101]"
   ]
  },
  {
   "cell_type": "markdown",
   "id": "a42ee501",
   "metadata": {},
   "source": [
    "- - -"
   ]
  },
  {
   "cell_type": "markdown",
   "id": "2f67c6f3-f628-4cf3-b559-472b51e7d679",
   "metadata": {},
   "source": [
    "**3. Problem description:** Check whether the input string contains balanced brackets\n",
    "\n",
    "Input:\n",
    "```bash\n",
    "{{(((([[[[]]]]))))}}\n",
    "```\n",
    "\n",
    "Output:\n",
    "```\n",
    "True\n",
    "```\n",
    "\n",
    "Input:\n",
    "```bash\n",
    "{(})()[\n",
    "```\n",
    "\n",
    "Output:\n",
    "```bash\n",
    "False\n",
    "```"
   ]
  },
  {
   "cell_type": "code",
   "execution_count": 108,
   "id": "78c0dac3-c4d7-4cb5-968c-8cb41736d7b0",
   "metadata": {},
   "outputs": [],
   "source": [
    "def is_brackets_balanced(input_string: str) -> bool:\n",
    "    brackets = {\n",
    "        \"(\": \")\",\n",
    "        \"[\": \"]\",\n",
    "        \"{\": \"}\"\n",
    "    }\n",
    "\n",
    "    stack = []\n",
    "\n",
    "    for char in input_string:\n",
    "        if char in brackets.keys():\n",
    "            stack.append(char)\n",
    "        elif char in brackets.values():\n",
    "            if stack == [] or brackets[stack[-1]] != char:\n",
    "                return False\n",
    "            stack.pop()\n",
    "\n",
    "    return len(stack) == 0"
   ]
  },
  {
   "cell_type": "code",
   "execution_count": 109,
   "id": "8cfe86a8-3044-4f4a-b2f4-e1be9ab371fa",
   "metadata": {},
   "outputs": [],
   "source": [
    "assert is_brackets_balanced(\"{{(((([[[[]]]]))))}}\") == True\n",
    "assert is_brackets_balanced(\"{(})()[\") == False\n",
    "assert is_brackets_balanced(\"[([)\") == False\n",
    "assert is_brackets_balanced(\"[][][(])\") == False"
   ]
  },
  {
   "cell_type": "markdown",
   "id": "8572de4a-c23f-44be-9213-faebad29882b",
   "metadata": {},
   "source": [
    "- - -"
   ]
  }
 ],
 "metadata": {
  "kernelspec": {
   "display_name": "Python 3 (ipykernel)",
   "language": "python",
   "name": "python3"
  },
  "language_info": {
   "codemirror_mode": {
    "name": "ipython",
    "version": 3
   },
   "file_extension": ".py",
   "mimetype": "text/x-python",
   "name": "python",
   "nbconvert_exporter": "python",
   "pygments_lexer": "ipython3",
   "version": "3.13.7"
  }
 },
 "nbformat": 4,
 "nbformat_minor": 5
}
