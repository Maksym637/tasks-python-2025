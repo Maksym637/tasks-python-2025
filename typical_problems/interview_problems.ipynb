{
 "cells": [
  {
   "cell_type": "markdown",
   "id": "509c67bc",
   "metadata": {},
   "source": [
    "# Interview problems"
   ]
  },
  {
   "cell_type": "markdown",
   "id": "8e6afbe0",
   "metadata": {},
   "source": [
    "- - -"
   ]
  },
  {
   "cell_type": "markdown",
   "id": "ccf88d63",
   "metadata": {},
   "source": [
    "**1. Problem description:** Remove duplicates in a string\n",
    "\n",
    "Input:\n",
    "```bash\n",
    "abbaca\n",
    "```\n",
    "\n",
    "Output:\n",
    "```bash\n",
    "ca\n",
    "```"
   ]
  },
  {
   "cell_type": "code",
   "execution_count": 1,
   "id": "83b172c5",
   "metadata": {},
   "outputs": [],
   "source": [
    "def remove_duplicates(string: str) -> str:\n",
    "    stack = []\n",
    "\n",
    "    for char in string:\n",
    "        if stack and char == stack[-1]:\n",
    "            stack.pop()\n",
    "        else:\n",
    "            stack.append(char)\n",
    "\n",
    "    return \"\".join(stack)"
   ]
  },
  {
   "cell_type": "code",
   "execution_count": 4,
   "id": "7a91b66a",
   "metadata": {},
   "outputs": [],
   "source": [
    "assert remove_duplicates(\"abbaca\") == \"ca\""
   ]
  },
  {
   "cell_type": "markdown",
   "id": "fd42893b",
   "metadata": {},
   "source": [
    "- - -"
   ]
  },
  {
   "cell_type": "markdown",
   "id": "ea26c4c9",
   "metadata": {},
   "source": [
    "**2. Problem description:** Find the longest subsection with a delta equal to 1\n",
    "\n",
    "Input:\n",
    "```python\n",
    "input_array = [3, 1, 54, 2, 7, 6, 98, 1, 99, 101, 100, 2, 97]\n",
    "```\n",
    "\n",
    "Output:\n",
    "```python\n",
    "output_array = [97, 98, 99, 100, 101]\n",
    "```"
   ]
  },
  {
   "cell_type": "code",
   "execution_count": 11,
   "id": "24fe51c6",
   "metadata": {},
   "outputs": [],
   "source": [
    "from typing import List\n",
    "\n",
    "\n",
    "def find_longest_subsection(array: List[int]) -> List[int]:\n",
    "    nums_set = set(array)\n",
    "    current, longest = [], []\n",
    "\n",
    "    for i in nums_set:\n",
    "        if i - 1 not in nums_set:\n",
    "            j = i\n",
    "            while j in nums_set:\n",
    "                current.append(j)\n",
    "                j += 1\n",
    "            if len(current) > len(longest):\n",
    "                longest = current[:]\n",
    "            current = []\n",
    "\n",
    "    return longest"
   ]
  },
  {
   "cell_type": "code",
   "execution_count": 106,
   "id": "2766f649",
   "metadata": {},
   "outputs": [],
   "source": [
    "assert find_longest_subsection([3, 1, 54, 2, 7, 6, 98, 1, 99, 101, 100, 2, 97]) == [97, 98, 99, 100, 101]"
   ]
  },
  {
   "cell_type": "markdown",
   "id": "a42ee501",
   "metadata": {},
   "source": [
    "- - -"
   ]
  },
  {
   "cell_type": "markdown",
   "id": "2f67c6f3-f628-4cf3-b559-472b51e7d679",
   "metadata": {},
   "source": [
    "**3. Problem description:** Check whether the input string contains balanced brackets\n",
    "\n",
    "Input:\n",
    "```bash\n",
    "{{(((([[[[]]]]))))}}\n",
    "```\n",
    "\n",
    "Output:\n",
    "```\n",
    "True\n",
    "```\n",
    "\n",
    "Input:\n",
    "```bash\n",
    "{(})()[\n",
    "```\n",
    "\n",
    "Output:\n",
    "```bash\n",
    "False\n",
    "```"
   ]
  },
  {
   "cell_type": "code",
   "execution_count": 108,
   "id": "78c0dac3-c4d7-4cb5-968c-8cb41736d7b0",
   "metadata": {},
   "outputs": [],
   "source": [
    "def is_brackets_balanced(input_string: str) -> bool:\n",
    "    brackets = {\n",
    "        \"(\": \")\",\n",
    "        \"[\": \"]\",\n",
    "        \"{\": \"}\"\n",
    "    }\n",
    "\n",
    "    stack = []\n",
    "\n",
    "    for char in input_string:\n",
    "        if char in brackets.keys():\n",
    "            stack.append(char)\n",
    "        elif char in brackets.values():\n",
    "            if stack == [] or brackets[stack[-1]] != char:\n",
    "                return False\n",
    "            stack.pop()\n",
    "\n",
    "    return len(stack) == 0"
   ]
  },
  {
   "cell_type": "code",
   "execution_count": 109,
   "id": "8cfe86a8-3044-4f4a-b2f4-e1be9ab371fa",
   "metadata": {},
   "outputs": [],
   "source": [
    "assert is_brackets_balanced(\"{{(((([[[[]]]]))))}}\") == True\n",
    "assert is_brackets_balanced(\"{(})()[\") == False\n",
    "assert is_brackets_balanced(\"[([)\") == False\n",
    "assert is_brackets_balanced(\"[][][(])\") == False"
   ]
  },
  {
   "cell_type": "markdown",
   "id": "8572de4a-c23f-44be-9213-faebad29882b",
   "metadata": {},
   "source": [
    "- - -"
   ]
  },
  {
   "cell_type": "markdown",
   "id": "50d0fb50",
   "metadata": {},
   "source": [
    "**4. Problem description:** Return an array containing the missing values\n",
    "\n",
    "Input:\n",
    "```python\n",
    "input_array = [2, 6, 10]\n",
    "```\n",
    "\n",
    "Output:\n",
    "```python\n",
    "output_array = [3, 4, 5, 7, 8, 9]\n",
    "```"
   ]
  },
  {
   "cell_type": "code",
   "execution_count": 17,
   "id": "e08c52bc",
   "metadata": {},
   "outputs": [],
   "source": [
    "from typing import List\n",
    "\n",
    "\n",
    "def find_missing_values(input_array: List[int]) -> List[int]:\n",
    "    input_set = set(input_array)\n",
    "\n",
    "    full_range = set(range(min(input_array), max(input_array) + 1))\n",
    "    output_array = sorted(full_range - input_set)\n",
    "\n",
    "    return output_array"
   ]
  },
  {
   "cell_type": "code",
   "execution_count": 18,
   "id": "92246b89",
   "metadata": {},
   "outputs": [],
   "source": [
    "assert find_missing_values([2, 6, 10]) == [3, 4, 5, 7, 8, 9]\n",
    "assert find_missing_values([1, 5]) == [2, 3, 4]\n",
    "assert find_missing_values([1, 2, 3, 4, 5]) == []"
   ]
  },
  {
   "cell_type": "markdown",
   "id": "167d82fa",
   "metadata": {},
   "source": [
    "- - -"
   ]
  },
  {
   "cell_type": "markdown",
   "id": "332b95b3",
   "metadata": {},
   "source": [
    "**5. Problem description:** Find non-repeating elements\n",
    "\n",
    "Input:\n",
    "```python\n",
    "input_array = [1, 1, 3, 4, 5, 6, 6, 8, 8, 3]\n",
    "```\n",
    "\n",
    "Output:\n",
    "```python\n",
    "output_array = [4, 5]\n",
    "```"
   ]
  },
  {
   "cell_type": "code",
   "execution_count": null,
   "id": "ee5a94ba",
   "metadata": {},
   "outputs": [],
   "source": [
    "from typing import List\n",
    "\n",
    "\n",
    "def find_non_repeating_elements(numbers: List[int]) -> List[int]:\n",
    "    seen, repeated = set(), set()\n",
    "\n",
    "    for number in numbers:\n",
    "        if number in seen:\n",
    "            repeated.add(number)\n",
    "        else:\n",
    "            seen.add(number)\n",
    "\n",
    "    return list(seen - repeated)"
   ]
  },
  {
   "cell_type": "code",
   "execution_count": 11,
   "id": "81923599",
   "metadata": {},
   "outputs": [],
   "source": [
    "assert find_non_repeating_elements([1, 1, 3, 4, 5, 6, 6, 8, 8, 3]) == [4, 5]\n",
    "assert find_non_repeating_elements([1, 2, 3, 4, 5]) == [1, 2, 3, 4, 5]\n",
    "assert find_non_repeating_elements([1, 1, 1, 1]) == []"
   ]
  },
  {
   "cell_type": "markdown",
   "id": "50e85df1",
   "metadata": {},
   "source": [
    "- - -"
   ]
  },
  {
   "cell_type": "markdown",
   "id": "c4bf0c74",
   "metadata": {},
   "source": [
    "**6. Problem description:** Find anagram pairs in two lists.\n",
    "\n",
    "The task at hand for this problem is to identify all pairs of anagrams where each pair is made up of one word from the first list and one from the second list. For those unfamiliar, an anagram is a word or phrase that is created by rearranging the letters of another word or phrase, using all the original letters exactly once.\n",
    "\n",
    "Input:\n",
    "```python\n",
    "input_list_1 = [\"listen\", \"read\"]\n",
    "input_list_2 = [\"breathe\", \"silent\"]\n",
    "```\n",
    "\n",
    "Output:\n",
    "```python\n",
    "output_list = [(\"listen\", \"silent\")]\n",
    "```"
   ]
  },
  {
   "cell_type": "code",
   "execution_count": 13,
   "id": "db4d456a",
   "metadata": {},
   "outputs": [],
   "source": [
    "from typing import Tuple, List\n",
    "\n",
    "\n",
    "def find_anagrams(list_1: List[str], list_2: List[str]) -> List[Tuple[str]]:\n",
    "    output = []\n",
    "\n",
    "    sorted_tuples_1 = set(tuple(sorted(word)) for word in list_1)\n",
    "    sorted_tuples_2 = set(tuple(sorted(word)) for word in list_2)\n",
    "\n",
    "    common_tuples = sorted_tuples_1 & sorted_tuples_2\n",
    "\n",
    "    list_1_output = [word for word in list_1 if tuple(sorted(word)) in common_tuples]\n",
    "    list_2_output = [word for word in list_2 if tuple(sorted(word)) in common_tuples]\n",
    "\n",
    "    for word1 in list_1_output:\n",
    "        for word2 in list_2_output:\n",
    "            if tuple(sorted(word1)) == tuple(sorted(word2)):\n",
    "                output.append((word1, word2))\n",
    "\n",
    "    return output"
   ]
  },
  {
   "cell_type": "code",
   "execution_count": 18,
   "id": "0f12abe5",
   "metadata": {},
   "outputs": [],
   "source": [
    "assert find_anagrams([\"listen\", \"read\"], [\"breathe\", \"silent\"]) == [(\"listen\", \"silent\")]\n",
    "assert find_anagrams([\"bat\", \"tab\", \"cat\"], [\"tac\", \"abt\", \"dog\"]) == [\n",
    "    (\"bat\", \"abt\"),\n",
    "    (\"tab\", \"abt\"),\n",
    "    (\"cat\", \"tac\"),\n",
    "]\n",
    "assert find_anagrams([], []) == []"
   ]
  },
  {
   "cell_type": "markdown",
   "id": "655eb319",
   "metadata": {},
   "source": [
    "- - -"
   ]
  },
  {
   "cell_type": "markdown",
   "id": "4d916a5c",
   "metadata": {},
   "source": [
    "**7. Problem description:** Find the three most frequently occurring words from the text\n",
    "\n",
    "Input:\n",
    "```text\n",
    "apple banana apple orange banana apple grape grape grape\n",
    "```\n",
    "\n",
    "Output:\n",
    "```text\n",
    "[('apple', 3), ('grape', 3), ('banana', 2)]\n",
    "```"
   ]
  },
  {
   "cell_type": "code",
   "execution_count": 24,
   "id": "b3bd53d4",
   "metadata": {},
   "outputs": [],
   "source": [
    "from typing import List\n",
    "from collections import defaultdict\n",
    "\n",
    "\n",
    "def find_frequent_words(text: str) -> List[str]:\n",
    "    text = text.lower()\n",
    "    word_counts = defaultdict(int)\n",
    "    word_list = text.split()\n",
    "\n",
    "    for word in word_list:\n",
    "        word_counts[word] += 1\n",
    "\n",
    "    top_three = sorted(word_counts.items(), key=lambda x: x[1], reverse=True)[:3]\n",
    "\n",
    "    return top_three"
   ]
  },
  {
   "cell_type": "code",
   "execution_count": 25,
   "id": "6331b51f",
   "metadata": {},
   "outputs": [],
   "source": [
    "assert find_frequent_words(\"apple banana apple orange banana apple grape grape grape\") == (\n",
    "    [(\"apple\", 3), (\"grape\", 3), (\"banana\", 2)]\n",
    ")"
   ]
  },
  {
   "cell_type": "markdown",
   "id": "c6cea157",
   "metadata": {},
   "source": [
    "- - -"
   ]
  },
  {
   "cell_type": "markdown",
   "id": "2c3e02e9",
   "metadata": {},
   "source": [
    "**8. Problem description:** Identify the \"majority\" element in a list.\n",
    "\n",
    "The \"majority element\" in a list is an element that appears more than `n / 2` times. Given a list of integers, our aim is to identify the majority element.\n",
    "\n",
    "Input:\n",
    "```python\n",
    "input_array = [1, 2, 2, 2, 3, 4, 5, 2, 2]\n",
    "```\n",
    "\n",
    "Output:\n",
    "```python\n",
    "majority_element = 2\n",
    "```"
   ]
  },
  {
   "cell_type": "code",
   "execution_count": 12,
   "id": "364c92a0",
   "metadata": {},
   "outputs": [],
   "source": [
    "from typing import List\n",
    "\n",
    "\n",
    "def find_majority_element(listA: List[int]) -> int:\n",
    "    count_dict = {}\n",
    "\n",
    "    for element in listA:\n",
    "        count_dict[element] = count_dict.get(element, 0) + 1\n",
    "        if count_dict[element] > len(listA) // 2:\n",
    "            return element\n",
    "\n",
    "    return -1"
   ]
  },
  {
   "cell_type": "code",
   "execution_count": 13,
   "id": "5baa46e4",
   "metadata": {},
   "outputs": [],
   "source": [
    "assert find_majority_element([1, 2, 2, 2, 3, 4, 5, 2, 2]) == 2\n",
    "assert find_majority_element([1, 1, 1, 1, 1, 1]) == 1\n",
    "assert find_majority_element([10, 20, 30, 40, 50]) == -1\n",
    "assert find_majority_element([]) == -1"
   ]
  },
  {
   "cell_type": "markdown",
   "id": "ec16a8fe",
   "metadata": {},
   "source": [
    "- - -"
   ]
  },
  {
   "cell_type": "markdown",
   "id": "14e549d4",
   "metadata": {},
   "source": [
    "**9. Problem description:** Locate the first and last position of an element in a sorted array\n",
    "\n",
    "Input:\n",
    "```python\n",
    "element = 4\n",
    "input_array = [2, 4, 4, 4, 6, 8]\n",
    "```\n",
    "\n",
    "Output:\n",
    "```python\n",
    "output_array = [1, 3]\n",
    "```"
   ]
  },
  {
   "cell_type": "code",
   "execution_count": null,
   "id": "a6026677",
   "metadata": {},
   "outputs": [],
   "source": [
    "def get_first_last_pos(nums, target):\n",
    "    def binary_search(left, right, find_first):\n",
    "        if left <= right:\n",
    "            mid = (left + right) // 2\n",
    "\n",
    "            if nums[mid] > target or (find_first and target == nums[mid]):\n",
    "                return binary_search(left, mid - 1, find_first)\n",
    "            else:\n",
    "                return binary_search(mid + 1, right, find_first)\n",
    "\n",
    "        return left\n",
    "\n",
    "    first = binary_search(0, len(nums) - 1, True)\n",
    "    last = binary_search(0, len(nums) - 1, False) - 1\n",
    "\n",
    "    if first <= last:\n",
    "        return [first, last]\n",
    "    else:\n",
    "        return [-1, -1]"
   ]
  },
  {
   "cell_type": "code",
   "execution_count": 21,
   "id": "5221ebe5",
   "metadata": {},
   "outputs": [],
   "source": [
    "assert get_first_last_pos([2, 4, 4, 4, 6, 8], 4) == [1, 3]"
   ]
  },
  {
   "cell_type": "markdown",
   "id": "fcb5bad7",
   "metadata": {},
   "source": [
    "- - -"
   ]
  },
  {
   "cell_type": "markdown",
   "id": "9a3bdb71",
   "metadata": {},
   "source": [
    "**10. Problem description:** Find or define insert position in a sorted list\n",
    "\n",
    "Input:\n",
    "```python\n",
    "element = 3\n",
    "input_array = [1, 2, 3, 3, 5]\n",
    "```\n",
    "\n",
    "Output:\n",
    "```python\n",
    "output = 2\n",
    "```\n",
    "\n",
    "Input:\n",
    "```python\n",
    "element = 4\n",
    "input_array = [1, 2, 3, 3, 5]\n",
    "```\n",
    "\n",
    "Output:\n",
    "```python\n",
    "output = 4\n",
    "```"
   ]
  },
  {
   "cell_type": "code",
   "execution_count": 25,
   "id": "e2bb383f",
   "metadata": {},
   "outputs": [],
   "source": [
    "from typing import List\n",
    "\n",
    "\n",
    "def search_insert(nums: List[int], target: int) -> int:\n",
    "    nums.append(float(\"inf\"))\n",
    "    left, right = 0, len(nums)\n",
    "\n",
    "    while right - left > 1:\n",
    "        mid = (left + right) // 2\n",
    "\n",
    "        if nums[mid] < target:\n",
    "            left = mid\n",
    "        else:\n",
    "            right = mid\n",
    "\n",
    "    return mid"
   ]
  },
  {
   "cell_type": "code",
   "execution_count": null,
   "id": "d786ea47",
   "metadata": {},
   "outputs": [],
   "source": [
    "assert search_insert([1, 2, 3, 3, 5], 3) == 2\n",
    "assert search_insert([1, 2, 3, 3, 5], 4) == 4\n",
    "assert search_insert([1, 3, 5, 7, 9], 10) == 5"
   ]
  },
  {
   "cell_type": "markdown",
   "id": "1fc2ff91",
   "metadata": {},
   "source": [
    "- - -"
   ]
  }
 ],
 "metadata": {
  "kernelspec": {
   "display_name": "tasks-python-2025-6Ww2c-73-py3.11",
   "language": "python",
   "name": "python3"
  },
  "language_info": {
   "codemirror_mode": {
    "name": "ipython",
    "version": 3
   },
   "file_extension": ".py",
   "mimetype": "text/x-python",
   "name": "python",
   "nbconvert_exporter": "python",
   "pygments_lexer": "ipython3",
   "version": "3.11.6"
  }
 },
 "nbformat": 4,
 "nbformat_minor": 5
}
