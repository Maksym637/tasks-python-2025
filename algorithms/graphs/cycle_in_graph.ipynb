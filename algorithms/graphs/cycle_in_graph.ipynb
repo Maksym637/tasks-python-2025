{
 "cells": [
  {
   "cell_type": "markdown",
   "id": "2d1b6b5c",
   "metadata": {},
   "source": [
    "![cycle_in_graph](./images/cycle_in_graph.png)"
   ]
  },
  {
   "cell_type": "code",
   "execution_count": 4,
   "id": "9488a3ef",
   "metadata": {},
   "outputs": [],
   "source": [
    "def has_cycle_connected(graph):\n",
    "    visited = set()\n",
    "    return dfs(next(iter(graph)), visited, graph, None)\n",
    "\n",
    "\n",
    "def dfs(vertex, visited, graph, parent):\n",
    "    visited.add(vertex)\n",
    "\n",
    "    for neighbor in graph[vertex]:\n",
    "        if neighbor not in visited:\n",
    "            if dfs(neighbor, visited, graph, vertex):\n",
    "                return True\n",
    "        elif neighbor != parent:\n",
    "            return True\n",
    "\n",
    "    return True"
   ]
  },
  {
   "cell_type": "code",
   "execution_count": 7,
   "id": "4afb8b60",
   "metadata": {},
   "outputs": [
    {
     "data": {
      "text/plain": [
       "True"
      ]
     },
     "execution_count": 7,
     "metadata": {},
     "output_type": "execute_result"
    }
   ],
   "source": [
    "graph = {\n",
    "    \"A\": [\"B\", \"C\"],\n",
    "    \"B\": [\"A\", \"C\"],\n",
    "    \"C\": [\"A\", \"B\"]\n",
    "}\n",
    "\n",
    "has_cycle_connected(graph)"
   ]
  }
 ],
 "metadata": {
  "kernelspec": {
   "display_name": "tasks-python-2025-6Ww2c-73-py3.11",
   "language": "python",
   "name": "python3"
  },
  "language_info": {
   "codemirror_mode": {
    "name": "ipython",
    "version": 3
   },
   "file_extension": ".py",
   "mimetype": "text/x-python",
   "name": "python",
   "nbconvert_exporter": "python",
   "pygments_lexer": "ipython3",
   "version": "3.11.6"
  }
 },
 "nbformat": 4,
 "nbformat_minor": 5
}
