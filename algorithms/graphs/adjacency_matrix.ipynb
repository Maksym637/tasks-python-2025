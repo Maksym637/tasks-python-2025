{
 "cells": [
  {
   "cell_type": "markdown",
   "id": "ae68095b",
   "metadata": {},
   "source": [
    "A group of friends and their connections on social media can be represented as a graph\n",
    "\n",
    "![graph](./images/graph.png)\n",
    "\n",
    "Their adjacency matrix provided below:\n",
    "\n",
    "![adjacency_matrix](./images/adjacency_matrix.png)\n",
    "\n",
    "```python\n",
    "M = [\n",
    "    [0, 1, 1],\n",
    "    [1, 0, 0],\n",
    "    [1, 0, 0],\n",
    "]\n",
    "```"
   ]
  },
  {
   "cell_type": "code",
   "execution_count": 3,
   "id": "8d06a5f7",
   "metadata": {},
   "outputs": [
    {
     "name": "stdout",
     "output_type": "stream",
     "text": [
      "[0, 1, 1]\n",
      "[1, 0, 0]\n",
      "[1, 0, 0]\n"
     ]
    }
   ],
   "source": [
    "n = 3\n",
    "M = [[0] * n for _ in range(n)]\n",
    "\n",
    "M[0][1] = M[0][2] = 1\n",
    "M[1][0] = M[2][0] = 1\n",
    "\n",
    "for row in M:\n",
    "    print(row)"
   ]
  }
 ],
 "metadata": {
  "kernelspec": {
   "display_name": "tasks-python-2025-6Ww2c-73-py3.11",
   "language": "python",
   "name": "python3"
  },
  "language_info": {
   "codemirror_mode": {
    "name": "ipython",
    "version": 3
   },
   "file_extension": ".py",
   "mimetype": "text/x-python",
   "name": "python",
   "nbconvert_exporter": "python",
   "pygments_lexer": "ipython3",
   "version": "3.11.6"
  }
 },
 "nbformat": 4,
 "nbformat_minor": 5
}
