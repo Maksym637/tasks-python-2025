{
 "cells": [
  {
   "cell_type": "markdown",
   "id": "ffb6bb61",
   "metadata": {},
   "source": [
    "### Understanding Continuous Functions"
   ]
  },
  {
   "cell_type": "markdown",
   "id": "e046b11e",
   "metadata": {},
   "source": [
    "Continuous functions are those that produce a smooth, unbroken output for a continuous range of inputs without any abrupt changes or gaps. In mathematical terms, a function $f(x)$ is continuous at a point $x=a$ if the limit of $f(x)$ as $x$ approaches $a$ from the left is equal to the limit of $f(x)$ as $x$ approaches $a$ from the right, and these values are equal to $f(a)$. That means that:\n",
    "$$\\lim_{x \\to a^-}f(x) = \\lim_{x \\to a^+}f(x) = f(a)$$"
   ]
  },
  {
   "cell_type": "markdown",
   "id": "2f1c4ac5",
   "metadata": {},
   "source": [
    "### Finding the Function Value with Binary Search"
   ]
  },
  {
   "cell_type": "markdown",
   "id": "64fee114",
   "metadata": {},
   "source": [
    "Consider the continuous function $f(x)=x^2 - 2$, and let's try to find $x$ for which $f(x)=0$, within the interval $[1, 2]$."
   ]
  },
  {
   "cell_type": "code",
   "execution_count": null,
   "id": "dea4204d",
   "metadata": {},
   "outputs": [],
   "source": [
    "def f(x):\n",
    "    return x * x - 2\n",
    "\n",
    "def binary_search(target, left, right, precision):\n",
    "    while right - left > precision:\n",
    "        mid = (left + right) / 2\n",
    "\n",
    "        if f(mid) < target:\n",
    "            left = mid\n",
    "        else:\n",
    "            right = mid\n",
    "\n",
    "    return left"
   ]
  },
  {
   "cell_type": "code",
   "execution_count": 3,
   "id": "b3ca3621",
   "metadata": {},
   "outputs": [
    {
     "name": "stdout",
     "output_type": "stream",
     "text": [
      "x for which f(x) is approximately 0: 1.4142131805419922\n"
     ]
    }
   ],
   "source": [
    "epsilon = 0.000001\n",
    "result = binary_search(0, 1, 2, epsilon)\n",
    "print(f\"x for which f(x) is approximately 0: {result}\")"
   ]
  }
 ],
 "metadata": {
  "kernelspec": {
   "display_name": "tasks-python-2025-6Ww2c-73-py3.11",
   "language": "python",
   "name": "python3"
  },
  "language_info": {
   "codemirror_mode": {
    "name": "ipython",
    "version": 3
   },
   "file_extension": ".py",
   "mimetype": "text/x-python",
   "name": "python",
   "nbconvert_exporter": "python",
   "pygments_lexer": "ipython3",
   "version": "3.11.6"
  }
 },
 "nbformat": 4,
 "nbformat_minor": 5
}
