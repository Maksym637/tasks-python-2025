{
 "cells": [
  {
   "cell_type": "markdown",
   "id": "635a1cf3",
   "metadata": {},
   "source": [
    "### Breadth-first Search (BFS)"
   ]
  },
  {
   "cell_type": "markdown",
   "id": "0693dd74",
   "metadata": {},
   "source": [
    "An example of the tree:\n",
    "\n",
    "![tree](./images/tree.png)"
   ]
  },
  {
   "cell_type": "code",
   "execution_count": 3,
   "id": "5fd6528f",
   "metadata": {},
   "outputs": [],
   "source": [
    "from collections import deque\n",
    "\n",
    "\n",
    "def bfs(tree, root):\n",
    "    visited = set()\n",
    "    visited_order = []\n",
    "    queue = deque()\n",
    "\n",
    "    queue.append(root)\n",
    "\n",
    "    while queue:\n",
    "        node = queue.popleft()\n",
    "        visited_order.append(node)\n",
    "        visited.add(node)\n",
    "\n",
    "        for child in tree[node]:\n",
    "            if child not in visited:\n",
    "                queue.append(child)\n",
    "\n",
    "    return visited_order"
   ]
  },
  {
   "cell_type": "code",
   "execution_count": 5,
   "id": "6b9c390f",
   "metadata": {},
   "outputs": [
    {
     "name": "stdout",
     "output_type": "stream",
     "text": [
      "A -> B -> C -> D -> E -> F -> G -> H -> I -> J\n"
     ]
    }
   ],
   "source": [
    "tree = {\n",
    "    \"A\": [\"B\", \"C\", \"D\"],\n",
    "    \"B\": [\"A\", \"E\", \"F\"],\n",
    "    \"C\": [\"A\"],\n",
    "    \"D\": [\"A\", \"G\", \"H\"],\n",
    "    \"E\": [\"B\"],\n",
    "    \"F\": [\"B\", \"I\", \"J\"],\n",
    "    \"G\": [\"D\"],\n",
    "    \"H\": [\"D\"],\n",
    "    \"I\": [\"F\"],\n",
    "    \"J\": [\"F\"],\n",
    "}\n",
    "\n",
    "traversal = bfs(tree, \"A\")\n",
    "print(\" -> \".join(traversal))"
   ]
  }
 ],
 "metadata": {
  "kernelspec": {
   "display_name": "tasks-python-2025-6Ww2c-73-py3.11",
   "language": "python",
   "name": "python3"
  },
  "language_info": {
   "codemirror_mode": {
    "name": "ipython",
    "version": 3
   },
   "file_extension": ".py",
   "mimetype": "text/x-python",
   "name": "python",
   "nbconvert_exporter": "python",
   "pygments_lexer": "ipython3",
   "version": "3.11.6"
  }
 },
 "nbformat": 4,
 "nbformat_minor": 5
}
