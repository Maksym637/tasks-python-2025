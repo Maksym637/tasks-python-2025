{
 "cells": [
  {
   "cell_type": "markdown",
   "id": "a16b9295",
   "metadata": {},
   "source": [
    "### Binary Search Trees (BSTs)"
   ]
  },
  {
   "cell_type": "markdown",
   "id": "08563b68",
   "metadata": {},
   "source": [
    "An example of the tree:\n",
    "\n",
    "![bst](./images/bst.png)"
   ]
  },
  {
   "cell_type": "code",
   "execution_count": 1,
   "id": "52e16f1a",
   "metadata": {},
   "outputs": [],
   "source": [
    "class Node:\n",
    "    def __init__(self, val):\n",
    "        self.left = None\n",
    "        self.right = None\n",
    "        self.val = val"
   ]
  },
  {
   "cell_type": "code",
   "execution_count": 2,
   "id": "50de3775",
   "metadata": {},
   "outputs": [],
   "source": [
    "root = Node(5)\n",
    "\n",
    "root.left = Node(3)\n",
    "root.right = Node(9)\n",
    "\n",
    "root.left.left = Node(1)\n",
    "root.left.right = Node(4)\n",
    "\n",
    "root.right.left = Node(6)"
   ]
  },
  {
   "cell_type": "code",
   "execution_count": 4,
   "id": "0ef7421f",
   "metadata": {},
   "outputs": [],
   "source": [
    "def insert(root, key):\n",
    "    if root is None:\n",
    "        return Node(key)\n",
    "    else:\n",
    "        if root.val < key:\n",
    "            root.right = insert(root.right, key)\n",
    "        else:\n",
    "            root.left = insert(root.left, key)\n",
    "\n",
    "    return root"
   ]
  },
  {
   "cell_type": "code",
   "execution_count": 5,
   "id": "773c91c9",
   "metadata": {},
   "outputs": [],
   "source": [
    "def search(root, key):\n",
    "    if root is None or root.val == key:\n",
    "        return root    \n",
    "    if root.val < key:\n",
    "        return search(root.right, key)\n",
    "\n",
    "    return search(root.left)"
   ]
  },
  {
   "cell_type": "code",
   "execution_count": 10,
   "id": "a784abed",
   "metadata": {},
   "outputs": [
    {
     "data": {
      "text/plain": [
       "<__main__.Node at 0x105b6ee50>"
      ]
     },
     "execution_count": 10,
     "metadata": {},
     "output_type": "execute_result"
    }
   ],
   "source": [
    "insert(root, 10)"
   ]
  },
  {
   "cell_type": "code",
   "execution_count": 13,
   "id": "8376e7f8",
   "metadata": {},
   "outputs": [
    {
     "data": {
      "text/plain": [
       "<__main__.Node at 0x10cc29690>"
      ]
     },
     "execution_count": 13,
     "metadata": {},
     "output_type": "execute_result"
    }
   ],
   "source": [
    "search(root, 10)"
   ]
  }
 ],
 "metadata": {
  "kernelspec": {
   "display_name": "tasks-python-2025-6Ww2c-73-py3.11",
   "language": "python",
   "name": "python3"
  },
  "language_info": {
   "codemirror_mode": {
    "name": "ipython",
    "version": 3
   },
   "file_extension": ".py",
   "mimetype": "text/x-python",
   "name": "python",
   "nbconvert_exporter": "python",
   "pygments_lexer": "ipython3",
   "version": "3.11.6"
  }
 },
 "nbformat": 4,
 "nbformat_minor": 5
}
