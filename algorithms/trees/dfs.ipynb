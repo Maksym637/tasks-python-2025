{
 "cells": [
  {
   "cell_type": "markdown",
   "id": "342c529e",
   "metadata": {},
   "source": [
    "### Depth-first Search (DFS)"
   ]
  },
  {
   "cell_type": "markdown",
   "id": "4cf7d695",
   "metadata": {},
   "source": [
    "An example of the tree:\n",
    "\n",
    "![tree](./images/tree.png)"
   ]
  },
  {
   "cell_type": "code",
   "execution_count": 15,
   "id": "1d2db26d",
   "metadata": {},
   "outputs": [],
   "source": [
    "def dfs(tree, root, visited, traversal):\n",
    "    traversal.append(root)\n",
    "    visited.add(root)\n",
    "\n",
    "    for child in tree[root]:\n",
    "        if child not in visited:\n",
    "            dfs(tree, child, visited, traversal)"
   ]
  },
  {
   "cell_type": "code",
   "execution_count": 18,
   "id": "53576687",
   "metadata": {},
   "outputs": [
    {
     "name": "stdout",
     "output_type": "stream",
     "text": [
      "A -> B -> E -> F -> I -> J -> C -> D -> G -> H\n"
     ]
    }
   ],
   "source": [
    "tree = {\n",
    "    \"A\": [\"B\", \"C\", \"D\"],\n",
    "    \"B\": [\"A\", \"E\", \"F\"],\n",
    "    \"C\": [\"A\"],\n",
    "    \"D\": [\"A\", \"G\", \"H\"],\n",
    "    \"E\": [\"B\"],\n",
    "    \"F\": [\"B\", \"I\", \"J\"],\n",
    "    \"G\": [\"D\"],\n",
    "    \"H\": [\"D\"],\n",
    "    \"I\": [\"F\"],\n",
    "    \"J\": [\"F\"],\n",
    "}\n",
    "\n",
    "visited = set()\n",
    "traversal = []\n",
    "dfs(tree, \"A\", visited, traversal)\n",
    "\n",
    "print(\" -> \".join(traversal))"
   ]
  }
 ],
 "metadata": {
  "kernelspec": {
   "display_name": "tasks-python-2025-6Ww2c-73-py3.11",
   "language": "python",
   "name": "python3"
  },
  "language_info": {
   "codemirror_mode": {
    "name": "ipython",
    "version": 3
   },
   "file_extension": ".py",
   "mimetype": "text/x-python",
   "name": "python",
   "nbconvert_exporter": "python",
   "pygments_lexer": "ipython3",
   "version": "3.11.6"
  }
 },
 "nbformat": 4,
 "nbformat_minor": 5
}
